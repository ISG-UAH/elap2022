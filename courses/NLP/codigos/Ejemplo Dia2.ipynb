{
  "nbformat": 4,
  "nbformat_minor": 0,
  "metadata": {
    "colab": {
      "name": "Copia de Clasificacion_completo_v2.ipynb",
      "provenance": [],
      "collapsed_sections": []
    },
    "kernelspec": {
      "name": "python3",
      "display_name": "Python 3"
    },
    "language_info": {
      "name": "python"
    },
    "accelerator": "GPU",
    "gpuClass": "standard"
  },
  "cells": [
    {
      "cell_type": "code",
      "execution_count": 1,
      "metadata": {
        "id": "_dkNr0aRbn2C"
      },
      "outputs": [],
      "source": [
        "import pandas as pd\n",
        "import numpy as np\n",
        "import re\n",
        "import nltk\n",
        "from nltk.corpus import stopwords\n",
        "\n",
        "from numpy import array\n",
        "from keras.preprocessing.text import one_hot\n",
        "from keras.preprocessing.sequence import pad_sequences\n",
        "from keras.models import Sequential\n",
        "from keras.layers.core import Activation, Dropout, Dense\n",
        "from keras.layers import Flatten\n",
        "from keras.layers import GlobalMaxPooling1D\n",
        "from keras.layers.embeddings import Embedding\n",
        "from sklearn.model_selection import train_test_split\n",
        "from keras.preprocessing.text import Tokenizer"
      ]
    },
    {
      "cell_type": "code",
      "source": [
        "!gdown https://drive.google.com/file/d/1lK5UmOnLK8_pFT4V10ZyU0olUZi_FHIw/view?usp=sharing --fuzzy\n",
        "!gdown https://drive.google.com/file/d/1YmQLJjyW-BRAAFAHbk6iwwTwwdNPNNjR/view?usp=sharing --fuzzy"
      ],
      "metadata": {
        "colab": {
          "base_uri": "https://localhost:8080/"
        },
        "id": "TKWDUvf6eyx9",
        "outputId": "69e2ece4-6fd4-493a-afd9-d61dfffd6831"
      },
      "execution_count": 2,
      "outputs": [
        {
          "output_type": "stream",
          "name": "stdout",
          "text": [
            "Downloading...\n",
            "From: https://drive.google.com/uc?id=1lK5UmOnLK8_pFT4V10ZyU0olUZi_FHIw\n",
            "To: /content/glove.6B.100d.txt\n",
            "100% 347M/347M [00:03<00:00, 112MB/s]\n",
            "Downloading...\n",
            "From: https://drive.google.com/uc?id=1YmQLJjyW-BRAAFAHbk6iwwTwwdNPNNjR\n",
            "To: /content/IMDB Dataset.csv\n",
            "100% 66.2M/66.2M [00:00<00:00, 91.9MB/s]\n"
          ]
        }
      ]
    },
    {
      "cell_type": "code",
      "source": [
        "movie_reviews = pd.read_csv(\"./IMDB Dataset.csv\")\n",
        "\n",
        "movie_reviews.isnull().values.any()\n",
        "\n",
        "movie_reviews.shape"
      ],
      "metadata": {
        "colab": {
          "base_uri": "https://localhost:8080/"
        },
        "id": "ZJzDRmf5dKbx",
        "outputId": "491afdc3-2efc-40ef-900d-8f4b18cf51a3"
      },
      "execution_count": 3,
      "outputs": [
        {
          "output_type": "execute_result",
          "data": {
            "text/plain": [
              "(50000, 2)"
            ]
          },
          "metadata": {},
          "execution_count": 3
        }
      ]
    },
    {
      "cell_type": "code",
      "source": [
        "movie_reviews.head()"
      ],
      "metadata": {
        "colab": {
          "base_uri": "https://localhost:8080/",
          "height": 206
        },
        "id": "7aEZdvpMfvhJ",
        "outputId": "b9caf21b-be37-4641-f864-3a9e122f102d"
      },
      "execution_count": 4,
      "outputs": [
        {
          "output_type": "execute_result",
          "data": {
            "text/plain": [
              "                                              review sentiment\n",
              "0  One of the other reviewers has mentioned that ...  positive\n",
              "1  A wonderful little production. <br /><br />The...  positive\n",
              "2  I thought this was a wonderful way to spend ti...  positive\n",
              "3  Basically there's a family where a little boy ...  negative\n",
              "4  Petter Mattei's \"Love in the Time of Money\" is...  positive"
            ],
            "text/html": [
              "\n",
              "  <div id=\"df-76e5a9b0-d411-4ca4-b3fc-5b4b32a11b49\">\n",
              "    <div class=\"colab-df-container\">\n",
              "      <div>\n",
              "<style scoped>\n",
              "    .dataframe tbody tr th:only-of-type {\n",
              "        vertical-align: middle;\n",
              "    }\n",
              "\n",
              "    .dataframe tbody tr th {\n",
              "        vertical-align: top;\n",
              "    }\n",
              "\n",
              "    .dataframe thead th {\n",
              "        text-align: right;\n",
              "    }\n",
              "</style>\n",
              "<table border=\"1\" class=\"dataframe\">\n",
              "  <thead>\n",
              "    <tr style=\"text-align: right;\">\n",
              "      <th></th>\n",
              "      <th>review</th>\n",
              "      <th>sentiment</th>\n",
              "    </tr>\n",
              "  </thead>\n",
              "  <tbody>\n",
              "    <tr>\n",
              "      <th>0</th>\n",
              "      <td>One of the other reviewers has mentioned that ...</td>\n",
              "      <td>positive</td>\n",
              "    </tr>\n",
              "    <tr>\n",
              "      <th>1</th>\n",
              "      <td>A wonderful little production. &lt;br /&gt;&lt;br /&gt;The...</td>\n",
              "      <td>positive</td>\n",
              "    </tr>\n",
              "    <tr>\n",
              "      <th>2</th>\n",
              "      <td>I thought this was a wonderful way to spend ti...</td>\n",
              "      <td>positive</td>\n",
              "    </tr>\n",
              "    <tr>\n",
              "      <th>3</th>\n",
              "      <td>Basically there's a family where a little boy ...</td>\n",
              "      <td>negative</td>\n",
              "    </tr>\n",
              "    <tr>\n",
              "      <th>4</th>\n",
              "      <td>Petter Mattei's \"Love in the Time of Money\" is...</td>\n",
              "      <td>positive</td>\n",
              "    </tr>\n",
              "  </tbody>\n",
              "</table>\n",
              "</div>\n",
              "      <button class=\"colab-df-convert\" onclick=\"convertToInteractive('df-76e5a9b0-d411-4ca4-b3fc-5b4b32a11b49')\"\n",
              "              title=\"Convert this dataframe to an interactive table.\"\n",
              "              style=\"display:none;\">\n",
              "        \n",
              "  <svg xmlns=\"http://www.w3.org/2000/svg\" height=\"24px\"viewBox=\"0 0 24 24\"\n",
              "       width=\"24px\">\n",
              "    <path d=\"M0 0h24v24H0V0z\" fill=\"none\"/>\n",
              "    <path d=\"M18.56 5.44l.94 2.06.94-2.06 2.06-.94-2.06-.94-.94-2.06-.94 2.06-2.06.94zm-11 1L8.5 8.5l.94-2.06 2.06-.94-2.06-.94L8.5 2.5l-.94 2.06-2.06.94zm10 10l.94 2.06.94-2.06 2.06-.94-2.06-.94-.94-2.06-.94 2.06-2.06.94z\"/><path d=\"M17.41 7.96l-1.37-1.37c-.4-.4-.92-.59-1.43-.59-.52 0-1.04.2-1.43.59L10.3 9.45l-7.72 7.72c-.78.78-.78 2.05 0 2.83L4 21.41c.39.39.9.59 1.41.59.51 0 1.02-.2 1.41-.59l7.78-7.78 2.81-2.81c.8-.78.8-2.07 0-2.86zM5.41 20L4 18.59l7.72-7.72 1.47 1.35L5.41 20z\"/>\n",
              "  </svg>\n",
              "      </button>\n",
              "      \n",
              "  <style>\n",
              "    .colab-df-container {\n",
              "      display:flex;\n",
              "      flex-wrap:wrap;\n",
              "      gap: 12px;\n",
              "    }\n",
              "\n",
              "    .colab-df-convert {\n",
              "      background-color: #E8F0FE;\n",
              "      border: none;\n",
              "      border-radius: 50%;\n",
              "      cursor: pointer;\n",
              "      display: none;\n",
              "      fill: #1967D2;\n",
              "      height: 32px;\n",
              "      padding: 0 0 0 0;\n",
              "      width: 32px;\n",
              "    }\n",
              "\n",
              "    .colab-df-convert:hover {\n",
              "      background-color: #E2EBFA;\n",
              "      box-shadow: 0px 1px 2px rgba(60, 64, 67, 0.3), 0px 1px 3px 1px rgba(60, 64, 67, 0.15);\n",
              "      fill: #174EA6;\n",
              "    }\n",
              "\n",
              "    [theme=dark] .colab-df-convert {\n",
              "      background-color: #3B4455;\n",
              "      fill: #D2E3FC;\n",
              "    }\n",
              "\n",
              "    [theme=dark] .colab-df-convert:hover {\n",
              "      background-color: #434B5C;\n",
              "      box-shadow: 0px 1px 3px 1px rgba(0, 0, 0, 0.15);\n",
              "      filter: drop-shadow(0px 1px 2px rgba(0, 0, 0, 0.3));\n",
              "      fill: #FFFFFF;\n",
              "    }\n",
              "  </style>\n",
              "\n",
              "      <script>\n",
              "        const buttonEl =\n",
              "          document.querySelector('#df-76e5a9b0-d411-4ca4-b3fc-5b4b32a11b49 button.colab-df-convert');\n",
              "        buttonEl.style.display =\n",
              "          google.colab.kernel.accessAllowed ? 'block' : 'none';\n",
              "\n",
              "        async function convertToInteractive(key) {\n",
              "          const element = document.querySelector('#df-76e5a9b0-d411-4ca4-b3fc-5b4b32a11b49');\n",
              "          const dataTable =\n",
              "            await google.colab.kernel.invokeFunction('convertToInteractive',\n",
              "                                                     [key], {});\n",
              "          if (!dataTable) return;\n",
              "\n",
              "          const docLinkHtml = 'Like what you see? Visit the ' +\n",
              "            '<a target=\"_blank\" href=https://colab.research.google.com/notebooks/data_table.ipynb>data table notebook</a>'\n",
              "            + ' to learn more about interactive tables.';\n",
              "          element.innerHTML = '';\n",
              "          dataTable['output_type'] = 'display_data';\n",
              "          await google.colab.output.renderOutput(dataTable, element);\n",
              "          const docLink = document.createElement('div');\n",
              "          docLink.innerHTML = docLinkHtml;\n",
              "          element.appendChild(docLink);\n",
              "        }\n",
              "      </script>\n",
              "    </div>\n",
              "  </div>\n",
              "  "
            ]
          },
          "metadata": {},
          "execution_count": 4
        }
      ]
    },
    {
      "cell_type": "code",
      "source": [
        "movie_reviews[\"review\"][3]"
      ],
      "metadata": {
        "colab": {
          "base_uri": "https://localhost:8080/",
          "height": 110
        },
        "id": "6qJDKNv3f2qK",
        "outputId": "e5609821-21fb-4037-dd24-6bd32aacfe54"
      },
      "execution_count": 5,
      "outputs": [
        {
          "output_type": "execute_result",
          "data": {
            "text/plain": [
              "\"Basically there's a family where a little boy (Jake) thinks there's a zombie in his closet & his parents are fighting all the time.<br /><br />This movie is slower than a soap opera... and suddenly, Jake decides to become Rambo and kill the zombie.<br /><br />OK, first of all when you're going to make a film you must Decide if its a thriller or a drama! As a drama the movie is watchable. Parents are divorcing & arguing like in real life. And then we have Jake with his closet which totally ruins all the film! I expected to see a BOOGEYMAN similar movie, and instead i watched a drama with some meaningless thriller spots.<br /><br />3 out of 10 just for the well playing parents & descent dialogs. As for the shots with Jake: just ignore them.\""
            ],
            "application/vnd.google.colaboratory.intrinsic+json": {
              "type": "string"
            }
          },
          "metadata": {},
          "execution_count": 5
        }
      ]
    },
    {
      "cell_type": "code",
      "source": [
        "import seaborn as sns\n",
        "\n",
        "sns.countplot(x='sentiment', data=movie_reviews)"
      ],
      "metadata": {
        "colab": {
          "base_uri": "https://localhost:8080/",
          "height": 297
        },
        "id": "NN9RItT6gAzM",
        "outputId": "12db3dd1-813d-46c3-bcf3-be5a27e17cf4"
      },
      "execution_count": 6,
      "outputs": [
        {
          "output_type": "execute_result",
          "data": {
            "text/plain": [
              "<matplotlib.axes._subplots.AxesSubplot at 0x7f7549bd9d90>"
            ]
          },
          "metadata": {},
          "execution_count": 6
        },
        {
          "output_type": "display_data",
          "data": {
            "text/plain": [
              "<Figure size 432x288 with 1 Axes>"
            ],
            "image/png": "[encoded data removed]"
          },
          "metadata": {
            "needs_background": "light"
          }
        }
      ]
    },
    {
      "cell_type": "code",
      "source": [
        "def preprocess_text(sen):\n",
        "    # Removing html tags\n",
        "    sentence = remove_tags(sen)\n",
        "\n",
        "    # Remove punctuations and numbers\n",
        "    sentence = re.sub('[^a-zA-Z]', ' ', sentence)\n",
        "\n",
        "    # Single character removal\n",
        "    #sentence = re.sub(r\"s+[a-zA-Z]s+\", ' ', sentence)\n",
        "\n",
        "    # Removing multiple spaces\n",
        "    #sentence = re.sub(r's+', ' ', sentence)\n",
        "\n",
        "    return sentence"
      ],
      "metadata": {
        "id": "kfkDDQ4sgjGg"
      },
      "execution_count": 7,
      "outputs": []
    },
    {
      "cell_type": "code",
      "source": [
        "TAG_RE = re.compile(r'<[^>]+>')\n",
        "\n",
        "def remove_tags(text):\n",
        "    return TAG_RE.sub('', text)"
      ],
      "metadata": {
        "id": "sbQs4qmvgoSA"
      },
      "execution_count": 8,
      "outputs": []
    },
    {
      "cell_type": "code",
      "source": [
        "X = []\n",
        "sentences = list(movie_reviews['review'])\n",
        "for sen in sentences:\n",
        "    X.append(preprocess_text(sen))"
      ],
      "metadata": {
        "id": "72oLpBFygt16"
      },
      "execution_count": 9,
      "outputs": []
    },
    {
      "cell_type": "code",
      "source": [
        "X[3]"
      ],
      "metadata": {
        "colab": {
          "base_uri": "https://localhost:8080/",
          "height": 91
        },
        "id": "MHnam1dwg09A",
        "outputId": "33ff9005-d75c-4300-a094-b528703758ba"
      },
      "execution_count": 10,
      "outputs": [
        {
          "output_type": "execute_result",
          "data": {
            "text/plain": [
              "'Basically there s a family where a little boy  Jake  thinks there s a zombie in his closet   his parents are fighting all the time This movie is slower than a soap opera    and suddenly  Jake decides to become Rambo and kill the zombie OK  first of all when you re going to make a film you must Decide if its a thriller or a drama  As a drama the movie is watchable  Parents are divorcing   arguing like in real life  And then we have Jake with his closet which totally ruins all the film  I expected to see a BOOGEYMAN similar movie  and instead i watched a drama with some meaningless thriller spots   out of    just for the well playing parents   descent dialogs  As for the shots with Jake  just ignore them '"
            ],
            "application/vnd.google.colaboratory.intrinsic+json": {
              "type": "string"
            }
          },
          "metadata": {},
          "execution_count": 10
        }
      ]
    },
    {
      "cell_type": "code",
      "source": [
        "#convierte las etiquetas positivo 1 y negativo 0\n",
        "y = movie_reviews['sentiment']\n",
        "\n",
        "y = np.array(list(map(lambda x: 1 if x==\"positive\" else 0, y)))"
      ],
      "metadata": {
        "id": "Mr3POxpnhhFg"
      },
      "execution_count": 11,
      "outputs": []
    },
    {
      "cell_type": "code",
      "source": [
        "#crea datasets de prueba y train, en un 80% para el conjunto de entrenamiento y un 20% para el conjunto de prueba.\n",
        "X_train, X_test, y_train, y_test = train_test_split(X, y, test_size=0.20, random_state=42)"
      ],
      "metadata": {
        "id": "DNIb4XE_hv4O"
      },
      "execution_count": 12,
      "outputs": []
    },
    {
      "cell_type": "markdown",
      "source": [
        "Preparación de la capa de incrustación\n",
        "\n",
        "---\n",
        "\n"
      ],
      "metadata": {
        "id": "wmyInA5nxzS-"
      }
    },
    {
      "cell_type": "code",
      "source": [
        "#crear diccionario de palabras a índice (incrustaciones de palabras)\n",
        "tokenizer = Tokenizer(num_words=5000)\n",
        "tokenizer.fit_on_texts(X_train)\n",
        "\n",
        "X_train = tokenizer.texts_to_sequences(X_train)\n",
        "X_test = tokenizer.texts_to_sequences(X_test)"
      ],
      "metadata": {
        "id": "XI83gcNiiMqp"
      },
      "execution_count": 13,
      "outputs": []
    },
    {
      "cell_type": "code",
      "source": [
        "# Adding 1 because of reserved 0 index\n",
        "vocab_size = len(tokenizer.word_index) + 1\n",
        "\n",
        "maxlen = 100\n",
        "\n",
        "X_train = pad_sequences(X_train, padding='post', maxlen=maxlen)\n",
        "X_test = pad_sequences(X_test, padding='post', maxlen=maxlen)"
      ],
      "metadata": {
        "id": "HTmLnwJ6mGkZ"
      },
      "execution_count": 14,
      "outputs": []
    },
    {
      "cell_type": "code",
      "source": [
        "# matriz de características con incrustaciones Glove\n",
        "from numpy import array\n",
        "from numpy import asarray\n",
        "from numpy import zeros\n",
        "\n",
        "embeddings_dictionary = dict()\n",
        "glove_file = open(\"./glove.6B.100d.txt\")\n",
        "\n",
        "for line in glove_file:\n",
        "    records = line.split()\n",
        "    word = records[0]\n",
        "    vector_dimensions = asarray(records[1:], dtype=\"float32\")\n",
        "    embeddings_dictionary [word] = vector_dimensions\n",
        "glove_file.close()"
      ],
      "metadata": {
        "id": "yHo0DDmKmgTv"
      },
      "execution_count": 15,
      "outputs": []
    },
    {
      "cell_type": "code",
      "source": [
        "#matriz de incrustación\n",
        "embedding_matrix = zeros((vocab_size, 100))\n",
        "for word, index in tokenizer.word_index.items():\n",
        "    embedding_vector = embeddings_dictionary.get(word)\n",
        "    if embedding_vector is not None:\n",
        "        embedding_matrix[index] = embedding_vector"
      ],
      "metadata": {
        "id": "d2cj-bHmmiep"
      },
      "execution_count": 16,
      "outputs": []
    },
    {
      "cell_type": "markdown",
      "source": [
        "CLASIFICACIÓN DE UN TEXTO CON UNA RED NEURONAL SIMPLE\n",
        "---\n",
        "\n"
      ],
      "metadata": {
        "id": "vRBV3LJfmyND"
      }
    },
    {
      "cell_type": "code",
      "source": [
        "model = Sequential()\n",
        "embedding_layer = Embedding(vocab_size,100,weights=[embedding_matrix],input_length=maxlen,trainable=False)\n",
        "model.add(embedding_layer)\n",
        "model.add(Flatten())\n",
        "#para mejorar se agrega dos capas ocultas 12 y 8 capas, luego se aumenta neuronas en las capas a 32 cada una y luego 16\n",
        "model.add(Dense(32, activation='relu'))\n",
        "#quitar una capa\n",
        "#model.add(Dense(32, activation='relu'))\n",
        "model.add(Dense(1, activation='sigmoid'))"
      ],
      "metadata": {
        "id": "xw7maMRam7AX"
      },
      "execution_count": 86,
      "outputs": []
    },
    {
      "cell_type": "code",
      "source": [
        "#Compilar el modelo usando el optimizador Adam\n",
        "model.compile(optimizer=\"adam\", loss=\"binary_crossentropy\", metrics=['acc'])\n",
        "\n",
        "print(model.summary())"
      ],
      "metadata": {
        "colab": {
          "base_uri": "https://localhost:8080/"
        },
        "id": "OLhJzZ6qnUUe",
        "outputId": "b4b7158e-917c-4beb-a2b2-a54652101c3b"
      },
      "execution_count": 88,
      "outputs": [
        {
          "output_type": "stream",
          "name": "stdout",
          "text": [
            "Model: \"sequential_11\"\n",
            "_________________________________________________________________\n",
            " Layer (type)                Output Shape              Param #   \n",
            "=================================================================\n",
            " embedding_11 (Embedding)    (None, 100, 100)          9254700   \n",
            "                                                                 \n",
            " flatten_7 (Flatten)         (None, 10000)             0         \n",
            "                                                                 \n",
            " dense_23 (Dense)            (None, 32)                320032    \n",
            "                                                                 \n",
            " dense_24 (Dense)            (None, 1)                 33        \n",
            "                                                                 \n",
            "=================================================================\n",
            "Total params: 9,574,765\n",
            "Trainable params: 320,065\n",
            "Non-trainable params: 9,254,700\n",
            "_________________________________________________________________\n",
            "None\n"
          ]
        }
      ]
    },
    {
      "cell_type": "code",
      "source": [
        "#Entrenar el modelo\n",
        "history = model.fit(X_train, y_train, batch_size=128, epochs=6, verbose=1, validation_split=0.2)"
      ],
      "metadata": {
        "colab": {
          "base_uri": "https://localhost:8080/"
        },
        "id": "nzTb3vR8neMG",
        "outputId": "8e1e2033-5480-490c-af8d-2cfe6b32e7e5"
      },
      "execution_count": 89,
      "outputs": [
        {
          "output_type": "stream",
          "name": "stdout",
          "text": [
            "Epoch 1/6\n",
            "250/250 [==============================] - 2s 7ms/step - loss: 0.6632 - acc: 0.6261 - val_loss: 0.6335 - val_acc: 0.7122\n",
            "Epoch 2/6\n",
            "250/250 [==============================] - 1s 6ms/step - loss: 0.5819 - acc: 0.7375 - val_loss: 0.5856 - val_acc: 0.7139\n",
            "Epoch 3/6\n",
            "250/250 [==============================] - 1s 5ms/step - loss: 0.5286 - acc: 0.7736 - val_loss: 0.5579 - val_acc: 0.7394\n",
            "Epoch 4/6\n",
            "250/250 [==============================] - 1s 5ms/step - loss: 0.4901 - acc: 0.7959 - val_loss: 0.5649 - val_acc: 0.7350\n",
            "Epoch 5/6\n",
            "250/250 [==============================] - 1s 5ms/step - loss: 0.4645 - acc: 0.8070 - val_loss: 0.5547 - val_acc: 0.7426\n",
            "Epoch 6/6\n",
            "250/250 [==============================] - 1s 6ms/step - loss: 0.4446 - acc: 0.8172 - val_loss: 0.5500 - val_acc: 0.7351\n"
          ]
        }
      ]
    },
    {
      "cell_type": "code",
      "source": [
        "#OPtimización del modelo  \n",
        "model.compile(optimizer=\"adam\", loss=\"binary_crossentropy\", metrics=['acc'])\n",
        "\n",
        "print(model.summary())"
      ],
      "metadata": {
        "colab": {
          "base_uri": "https://localhost:8080/"
        },
        "id": "AUCimlK3n6sF",
        "outputId": "9af4cec1-2bfc-40f6-e160-308f10e9c5d6"
      },
      "execution_count": 90,
      "outputs": [
        {
          "output_type": "stream",
          "name": "stdout",
          "text": [
            "Model: \"sequential_11\"\n",
            "_________________________________________________________________\n",
            " Layer (type)                Output Shape              Param #   \n",
            "=================================================================\n",
            " embedding_11 (Embedding)    (None, 100, 100)          9254700   \n",
            "                                                                 \n",
            " flatten_7 (Flatten)         (None, 10000)             0         \n",
            "                                                                 \n",
            " dense_23 (Dense)            (None, 32)                320032    \n",
            "                                                                 \n",
            " dense_24 (Dense)            (None, 1)                 33        \n",
            "                                                                 \n",
            "=================================================================\n",
            "Total params: 9,574,765\n",
            "Trainable params: 320,065\n",
            "Non-trainable params: 9,254,700\n",
            "_________________________________________________________________\n",
            "None\n"
          ]
        }
      ]
    },
    {
      "cell_type": "code",
      "source": [
        "#Entrenamiento del modelo\n",
        "history = model.fit(X_train, y_train, batch_size=128, epochs=6, verbose=1, validation_split=0.2)"
      ],
      "metadata": {
        "colab": {
          "base_uri": "https://localhost:8080/"
        },
        "id": "JHvhKxzZoNSr",
        "outputId": "43a43a5d-b626-456b-bc66-b7fc9476ff42"
      },
      "execution_count": 91,
      "outputs": [
        {
          "output_type": "stream",
          "name": "stdout",
          "text": [
            "Epoch 1/6\n",
            "250/250 [==============================] - 1s 3ms/step - loss: 0.4245 - acc: 0.8264 - val_loss: 0.5592 - val_acc: 0.7385\n",
            "Epoch 2/6\n",
            "250/250 [==============================] - 1s 3ms/step - loss: 0.4088 - acc: 0.8354 - val_loss: 0.5627 - val_acc: 0.7414\n",
            "Epoch 3/6\n",
            "250/250 [==============================] - 1s 3ms/step - loss: 0.4010 - acc: 0.8376 - val_loss: 0.6014 - val_acc: 0.7374\n",
            "Epoch 4/6\n",
            "250/250 [==============================] - 1s 3ms/step - loss: 0.3897 - acc: 0.8437 - val_loss: 0.5845 - val_acc: 0.7370\n",
            "Epoch 5/6\n",
            "250/250 [==============================] - 1s 5ms/step - loss: 0.3789 - acc: 0.8499 - val_loss: 0.6013 - val_acc: 0.7372\n",
            "Epoch 6/6\n",
            "250/250 [==============================] - 1s 3ms/step - loss: 0.3738 - acc: 0.8508 - val_loss: 0.6041 - val_acc: 0.7347\n"
          ]
        }
      ]
    },
    {
      "cell_type": "code",
      "source": [
        "#Para evaluar el modelo\n",
        "score = model.evaluate(X_test, y_test, verbose=1)\n",
        "print(\"Test Score:\", score[0])\n",
        "print(\"Test Accuracy:\", score[1])"
      ],
      "metadata": {
        "colab": {
          "base_uri": "https://localhost:8080/"
        },
        "id": "zG516JjwodJY",
        "outputId": "289b23d3-7688-4aa2-bc2f-f4ea1f0ef533"
      },
      "execution_count": 92,
      "outputs": [
        {
          "output_type": "stream",
          "name": "stdout",
          "text": [
            "313/313 [==============================] - 1s 2ms/step - loss: 0.6207 - acc: 0.7261\n",
            "Test Score: 0.6207485198974609\n",
            "Test Accuracy: 0.7261000275611877\n"
          ]
        }
      ]
    },
    {
      "cell_type": "code",
      "source": [
        "#Gráfica de la pérdida y precisión del modelo\n",
        "import matplotlib.pyplot as plt\n",
        "%matplotlib inline\n",
        "acc = history.history['acc']\n",
        "val_acc = history.history['val_acc']\n",
        "loss = history.history['loss']\n",
        "val_loss = history.history['val_loss']\n",
        "epochs = range(len(acc))\n",
        "plt.plot(epochs, acc, '-', color='orange', label='training acc')\n",
        "plt.plot(epochs, val_acc, '-', color='blue', label='validation acc')\n",
        "plt.title('Training and validation accuracy')\n",
        "plt.legend()\n",
        "plt.show()\n",
        "\n",
        "plt.plot(epochs, loss, '-', color='orange', label='training acc')\n",
        "plt.plot(epochs, val_loss,  '-', color='blue', label='validation acc')\n",
        "plt.title('Training and validation loss')\n",
        "plt.legend()\n",
        "plt.show()"
      ],
      "metadata": {
        "colab": {
          "base_uri": "https://localhost:8080/",
          "height": 545
        },
        "id": "9NVUIcL4o5yP",
        "outputId": "97379f30-d538-4d17-c955-de5596e907a6"
      },
      "execution_count": 93,
      "outputs": [
        {
          "output_type": "display_data",
          "data": {
            "text/plain": [
              "<Figure size 432x288 with 1 Axes>"
            ],
            "image/png": "[encoded data removed]"
          },
          "metadata": {
            "needs_background": "light"
          }
        },
        {
          "output_type": "display_data",
          "data": {
            "text/plain": [
              "<Figure size 432x288 with 1 Axes>"
            ],
            "image/png": "[encoded data removed]"
          },
          "metadata": {
            "needs_background": "light"
          }
        }
      ]
    },
    {
      "cell_type": "markdown",
      "source": [
        "Clasificación de texto con red neuronal recurrente (LSTM)\n",
        "\n",
        "---\n",
        "Una vez más, ejecute el código hasta la sección de incrustación de palabras y luego ejecute el siguiente fragmento de código.\n"
      ],
      "metadata": {
        "id": "d7WnxIDEw-4R"
      }
    },
    {
      "cell_type": "code",
      "source": [
        "from keras.layers import LSTM\n",
        "model = Sequential()\n",
        "embedding_layer = Embedding(vocab_size, 100,\n",
        "                            weights=[embedding_matrix],\n",
        "                            input_length=maxlen,\n",
        "                            trainable=False)\n",
        "model.add(embedding_layer)\n",
        "model.add(LSTM(128))\n",
        "model.add(Dense(1, activation='sigmoid'))\n",
        "#Compilar el modelo\n",
        "model.compile(optimizer=\"adam\",\n",
        "              loss=\"binary_crossentropy\",\n",
        "              metrics=['acc'])\n",
        "print(model.summary())"
      ],
      "metadata": {
        "colab": {
          "base_uri": "https://localhost:8080/"
        },
        "id": "6eVvCGwoxLro",
        "outputId": "532a08f8-4cb6-4510-e06d-1b6cbc262f83"
      },
      "execution_count": 75,
      "outputs": [
        {
          "output_type": "stream",
          "name": "stdout",
          "text": [
            "Model: \"sequential_9\"\n",
            "_________________________________________________________________\n",
            " Layer (type)                Output Shape              Param #   \n",
            "=================================================================\n",
            " embedding_9 (Embedding)     (None, 100, 100)          9254700   \n",
            "                                                                 \n",
            " lstm_1 (LSTM)               (None, 128)               117248    \n",
            "                                                                 \n",
            " dense_21 (Dense)            (None, 1)                 129       \n",
            "                                                                 \n",
            "=================================================================\n",
            "Total params: 9,372,077\n",
            "Trainable params: 117,377\n",
            "Non-trainable params: 9,254,700\n",
            "_________________________________________________________________\n",
            "None\n"
          ]
        }
      ]
    },
    {
      "cell_type": "code",
      "source": [
        "#entrenar el modelo en el conjunto de entrenamiento \n",
        "history = model.fit(X_train, y_train,\n",
        "                    batch_size=128,\n",
        "                    epochs=6, \n",
        "                    verbose=1,\n",
        "                    validation_split=0.2)\n",
        "#evalua desempeño en el conjunto de prueba.\n",
        "score = model.evaluate(X_test, y_test, verbose=1)"
      ],
      "metadata": {
        "colab": {
          "base_uri": "https://localhost:8080/"
        },
        "id": "dkb4L07A28bj",
        "outputId": "ebe578e3-0a45-4bd1-f984-9feefdc50d91"
      },
      "execution_count": 76,
      "outputs": [
        {
          "output_type": "stream",
          "name": "stdout",
          "text": [
            "Epoch 1/6\n",
            "250/250 [==============================] - 4s 12ms/step - loss: 0.5690 - acc: 0.6965 - val_loss: 0.4755 - val_acc: 0.7751\n",
            "Epoch 2/6\n",
            "250/250 [==============================] - 2s 10ms/step - loss: 0.4548 - acc: 0.7901 - val_loss: 0.4318 - val_acc: 0.8000\n",
            "Epoch 3/6\n",
            "250/250 [==============================] - 2s 10ms/step - loss: 0.4162 - acc: 0.8101 - val_loss: 0.3855 - val_acc: 0.8257\n",
            "Epoch 4/6\n",
            "250/250 [==============================] - 2s 10ms/step - loss: 0.3808 - acc: 0.8290 - val_loss: 0.3671 - val_acc: 0.8391\n",
            "Epoch 5/6\n",
            "250/250 [==============================] - 2s 10ms/step - loss: 0.3553 - acc: 0.8426 - val_loss: 0.3550 - val_acc: 0.8435\n",
            "Epoch 6/6\n",
            "250/250 [==============================] - 2s 9ms/step - loss: 0.3332 - acc: 0.8549 - val_loss: 0.3478 - val_acc: 0.8434\n",
            "313/313 [==============================] - 1s 4ms/step - loss: 0.3489 - acc: 0.8438\n"
          ]
        }
      ]
    },
    {
      "cell_type": "code",
      "source": [
        "#resultados del modelo\n",
        "print(\"Test Score:\", score[0])\n",
        "print(\"Test Accuracy:\", score[1])"
      ],
      "metadata": {
        "colab": {
          "base_uri": "https://localhost:8080/"
        },
        "id": "tEO2dARt5NJu",
        "outputId": "99d66376-84cc-473c-c39c-820a91b83f24"
      },
      "execution_count": 77,
      "outputs": [
        {
          "output_type": "stream",
          "name": "stdout",
          "text": [
            "Test Score: 0.34889593720436096\n",
            "Test Accuracy: 0.8438000082969666\n"
          ]
        }
      ]
    },
    {
      "cell_type": "code",
      "source": [
        "#Tracemos las diferencias de pérdida y precisión entre los conjuntos de entrenamiento y de prueba\n",
        "import matplotlib.pyplot as plt\n",
        "\n",
        "plt.plot(history.history['acc'])\n",
        "plt.plot(history.history['val_acc'])\n",
        "\n",
        "plt.title('model accuracy')\n",
        "plt.ylabel('accuracy')\n",
        "plt.xlabel('epoch')\n",
        "plt.legend(['train','test'], loc=\"upper left\")\n",
        "plt.show()\n",
        "\n",
        "plt.plot(history.history['loss'])\n",
        "plt.plot(history.history['val_loss'])\n",
        "\n",
        "plt.title('model loss')\n",
        "plt.ylabel('loss')\n",
        "plt.xlabel('epoch')\n",
        "plt.legend(['train','test'], loc=\"upper left\")\n",
        "plt.show()"
      ],
      "metadata": {
        "colab": {
          "base_uri": "https://localhost:8080/",
          "height": 573
        },
        "id": "_qS6fJGk5cL6",
        "outputId": "4b6d161a-0e02-4977-b6c8-785350ec99f4"
      },
      "execution_count": 78,
      "outputs": [
        {
          "output_type": "display_data",
          "data": {
            "text/plain": [
              "<Figure size 432x288 with 1 Axes>"
            ],
            "image/png": "[encoded data removed]"
          },
          "metadata": {
            "needs_background": "light"
          }
        },
        {
          "output_type": "display_data",
          "data": {
            "text/plain": [
              "<Figure size 432x288 with 1 Axes>"
            ],
            "image/png": "[encoded data removed]"
          },
          "metadata": {
            "needs_background": "light"
          }
        }
      ]
    },
    {
      "cell_type": "markdown",
      "source": [
        "CLASIFICACIÓN CON MODELO GRU\n",
        "\n",
        "---\n",
        "\n",
        "Ejemplo tomado de http://personal.cimat.mx:8181/~mrivera/cursos/aprendizaje_profundo/RNN_LTSM/introduccion_rnn.html"
      ],
      "metadata": {
        "id": "bOa5ApjnaQ0i"
      }
    },
    {
      "cell_type": "code",
      "source": [
        "input_train = X_train\n",
        "input_test = X_test"
      ],
      "metadata": {
        "id": "mQsw8My0iTwL"
      },
      "execution_count": 79,
      "outputs": []
    },
    {
      "cell_type": "code",
      "source": [
        "from keras.models import Sequential\n",
        "#from keras import layers\n",
        "from keras.layers import Dense, GRU, Embedding\n",
        "model = Sequential()\n",
        "# Capa embedding\n",
        "# input_dim : tamaño del vocabulario\n",
        "# output_dim: dimensión del vector al que se mapea\n",
        "model.add(Embedding(vocab_size, 100, \n",
        "                    weights=[embedding_matrix], \n",
        "                    input_length=maxlen, \n",
        "                    trainable=False))\n",
        "# comentar la siguiente linea para evaluar dropout \n",
        "model.add(GRU(32))\n",
        "# descomentar la siguiente linea para evaluatr dropout \n",
        "#model.add(GRU(32, dropout=.2, recurrent_dropout=0.2))\n",
        "model.add(Dense(1, activation='sigmoid'))\n",
        "\n",
        "model.compile(optimizer='rmsprop', \n",
        "              loss='binary_crossentropy',\n",
        "              metrics=['acc'])\n",
        "print(model.summary())"
      ],
      "metadata": {
        "colab": {
          "base_uri": "https://localhost:8080/"
        },
        "id": "QNWMw-aSaUZq",
        "outputId": "6b4fdaee-7834-4ca7-e8ac-f2fd25d63ad0"
      },
      "execution_count": 80,
      "outputs": [
        {
          "output_type": "stream",
          "name": "stdout",
          "text": [
            "Model: \"sequential_10\"\n",
            "_________________________________________________________________\n",
            " Layer (type)                Output Shape              Param #   \n",
            "=================================================================\n",
            " embedding_10 (Embedding)    (None, 100, 100)          9254700   \n",
            "                                                                 \n",
            " gru_1 (GRU)                 (None, 32)                12864     \n",
            "                                                                 \n",
            " dense_22 (Dense)            (None, 1)                 33        \n",
            "                                                                 \n",
            "=================================================================\n",
            "Total params: 9,267,597\n",
            "Trainable params: 12,897\n",
            "Non-trainable params: 9,254,700\n",
            "_________________________________________________________________\n",
            "None\n"
          ]
        }
      ]
    },
    {
      "cell_type": "code",
      "source": [
        "import time\n",
        "tic = time.time()\n",
        "history_GRU = model.fit(input_train, y_train,\n",
        "                        epochs=10,\n",
        "                        batch_size=128,\n",
        "                        validation_split=0.2,\n",
        "                        verbose=2)\n",
        "print('Tiempo de entrenamiento:', time.time()-tic)"
      ],
      "metadata": {
        "colab": {
          "base_uri": "https://localhost:8080/"
        },
        "id": "2E8Ln8EMWD7r",
        "outputId": "1f87e975-ad8f-4f83-b80c-b43122a499ba"
      },
      "execution_count": 81,
      "outputs": [
        {
          "output_type": "stream",
          "name": "stdout",
          "text": [
            "Epoch 1/10\n",
            "250/250 - 3s - loss: 0.6035 - acc: 0.6578 - val_loss: 0.4893 - val_acc: 0.7648 - 3s/epoch - 14ms/step\n",
            "Epoch 2/10\n",
            "250/250 - 2s - loss: 0.4590 - acc: 0.7841 - val_loss: 0.4234 - val_acc: 0.8095 - 2s/epoch - 7ms/step\n",
            "Epoch 3/10\n",
            "250/250 - 2s - loss: 0.4131 - acc: 0.8101 - val_loss: 0.3865 - val_acc: 0.8236 - 2s/epoch - 7ms/step\n",
            "Epoch 4/10\n",
            "250/250 - 2s - loss: 0.3872 - acc: 0.8243 - val_loss: 0.3802 - val_acc: 0.8255 - 2s/epoch - 7ms/step\n",
            "Epoch 5/10\n",
            "250/250 - 2s - loss: 0.3711 - acc: 0.8326 - val_loss: 0.3601 - val_acc: 0.8375 - 2s/epoch - 7ms/step\n",
            "Epoch 6/10\n",
            "250/250 - 2s - loss: 0.3583 - acc: 0.8424 - val_loss: 0.3749 - val_acc: 0.8326 - 2s/epoch - 7ms/step\n",
            "Epoch 7/10\n",
            "250/250 - 2s - loss: 0.3486 - acc: 0.8458 - val_loss: 0.3679 - val_acc: 0.8313 - 2s/epoch - 7ms/step\n",
            "Epoch 8/10\n",
            "250/250 - 2s - loss: 0.3396 - acc: 0.8497 - val_loss: 0.3396 - val_acc: 0.8491 - 2s/epoch - 7ms/step\n",
            "Epoch 9/10\n",
            "250/250 - 2s - loss: 0.3311 - acc: 0.8543 - val_loss: 0.3501 - val_acc: 0.8476 - 2s/epoch - 7ms/step\n",
            "Epoch 10/10\n",
            "250/250 - 2s - loss: 0.3222 - acc: 0.8607 - val_loss: 0.3453 - val_acc: 0.8494 - 2s/epoch - 7ms/step\n",
            "Tiempo de entrenamiento: 21.80839228630066\n"
          ]
        }
      ]
    },
    {
      "cell_type": "code",
      "source": [
        "#resultados del modelo\n",
        "print(\"Test Score:\", score[0])\n",
        "print(\"Test Accuracy:\", score[1])"
      ],
      "metadata": {
        "id": "mlV3_NaBYaOo",
        "colab": {
          "base_uri": "https://localhost:8080/"
        },
        "outputId": "038252e2-5676-4c15-a0c9-df4da26da008"
      },
      "execution_count": 82,
      "outputs": [
        {
          "output_type": "stream",
          "name": "stdout",
          "text": [
            "Test Score: 0.34889593720436096\n",
            "Test Accuracy: 0.8438000082969666\n"
          ]
        }
      ]
    },
    {
      "cell_type": "code",
      "source": [
        "#Tracemos las diferencias de pérdida y precisión entre los conjuntos de entrenamiento y de prueba\n",
        "import matplotlib.pyplot as plt\n",
        "\n",
        "plt.plot(history.history['acc'])\n",
        "plt.plot(history.history['val_acc'])\n",
        "\n",
        "plt.title('model accuracy')\n",
        "plt.ylabel('accuracy')\n",
        "plt.xlabel('epoch')\n",
        "plt.legend(['train','test'], loc=\"upper left\")\n",
        "plt.show()\n",
        "\n",
        "plt.plot(history.history['loss'])\n",
        "plt.plot(history.history['val_loss'])\n",
        "\n",
        "plt.title('model loss')\n",
        "plt.ylabel('loss')\n",
        "plt.xlabel('epoch')\n",
        "plt.legend(['train','test'], loc=\"upper left\")\n",
        "plt.show()"
      ],
      "metadata": {
        "colab": {
          "base_uri": "https://localhost:8080/",
          "height": 573
        },
        "id": "i6-dDX65Q2hj",
        "outputId": "e4d12a5b-acc7-4575-c274-65649902be44"
      },
      "execution_count": 83,
      "outputs": [
        {
          "output_type": "display_data",
          "data": {
            "text/plain": [
              "<Figure size 432x288 with 1 Axes>"
            ],
            "image/png": "[encoded data removed]"
          },
          "metadata": {
            "needs_background": "light"
          }
        },
        {
          "output_type": "display_data",
          "data": {
            "text/plain": [
              "<Figure size 432x288 with 1 Axes>"
            ],
            "image/png": "[encoded data removed]"
          },
          "metadata": {
            "needs_background": "light"
          }
        }
      ]
    },
    {
      "cell_type": "markdown",
      "source": [
        " **IMPLEMENTE LA RED RNN SEGÚN EL CÓDIGO INDICADO**\n",
        "\n",
        "---\n",
        "\n"
      ],
      "metadata": {
        "id": "_OgjADXuEmHI"
      }
    },
    {
      "cell_type": "code",
      "source": [
        ""
      ],
      "metadata": {
        "id": "b7BDDU94TB4W"
      },
      "execution_count": null,
      "outputs": []
    },
    {
      "cell_type": "markdown",
      "source": [
        "**HACER PREDICCIONES DE UNA SOLA INSTANCIA O SENTIMIENTO**\n",
        "\n",
        "---\n",
        "\n",
        "\n",
        "\n"
      ],
      "metadata": {
        "id": "uJP_jRRQ52E0"
      }
    },
    {
      "cell_type": "code",
      "source": [
        "instance = X[57]\n",
        "print(instance)"
      ],
      "metadata": {
        "colab": {
          "base_uri": "https://localhost:8080/"
        },
        "id": "zV4PasUx57Qb",
        "outputId": "45421846-8423-4bae-8fb0-6025b5d171a6"
      },
      "execution_count": 84,
      "outputs": [
        {
          "output_type": "stream",
          "name": "stdout",
          "text": [
            "I laughed all the way through this rotten movie  It s so unbelievable  A woman leaves her husband after many years of marriage  has a breakdown in front of a real estate office  What happens  The office manager comes outside and offers her a job    Hilarious  Next thing you know the two women are going at it  Yep  they re lesbians  Nothing rings true in this  Lifetime for Women with nothing better to do  movie  Clunky dialogue like  I don t want to spend the rest of my life feeling like I had a chance to be happy and didn t take it  doesn t help  There s a wealthy  distant mother who disapproves of her daughter s new relationship  A sassy black maid   unbelievable that in the year       a film gets made in which there s a sassy black maid  Hattie McDaniel must be turning in her grave  The woman has a husband who freaks out and wants custody of the snotty teenage kids  Sheesh  No cliche is left unturned \n"
          ]
        }
      ]
    },
    {
      "cell_type": "code",
      "source": [
        "#Convertir la instancia en números\n",
        "instance = tokenizer.texts_to_sequences(instance)\n",
        "\n",
        "flat_list = []\n",
        "for sublist in instance:\n",
        "    for item in sublist:\n",
        "        flat_list.append(item)\n",
        "\n",
        "flat_list = [flat_list]\n",
        "\n",
        "#rellenar la secuencia de entrada como se hizo con el corpus corpus\n",
        "instance = pad_sequences(flat_list, padding='post', maxlen=maxlen)\n",
        "#predecir el sentimiento < a 0.5 --> negativo > a 0.5 positivo\n",
        "model.predict(instance)"
      ],
      "metadata": {
        "colab": {
          "base_uri": "https://localhost:8080/"
        },
        "id": "uiYBHSlv6VVI",
        "outputId": "0449fb39-10b2-4ca3-ca3b-a7b35aa6e844"
      },
      "execution_count": 85,
      "outputs": [
        {
          "output_type": "execute_result",
          "data": {
            "text/plain": [
              "array([[0.80167466]], dtype=float32)"
            ]
          },
          "metadata": {},
          "execution_count": 85
        }
      ]
    },
    {
      "cell_type": "markdown",
      "source": [
        "# **EJERCICIOS**\n",
        "---\n",
        "\n",
        "**RED NEURONAL SIMPLE:**\n",
        "\n",
        "Ejercicios:\n",
        "\n",
        "1.   Pruebe la red con menos o más neuronas en las capas intermedias (4, 8 ... 32, 64, ...)\n",
        "2.   Intente con mse en lugar de binary_crossentropy\n",
        "1.   Disminuya las pasadas (epoch) ¿Qué sucede con el sobre ajuste u overfitting?\n",
        "2.   Retire el batch_size ¿Qué sucede con los tiempos al entrenamiento?\n"
      ],
      "metadata": {
        "id": "2ERFXm1TDVJc"
      }
    },
    {
      "cell_type": "markdown",
      "source": [
        "**TAREA ADICIONAL, CÓDIGO RED NEURONAL RNN**\n",
        "\n",
        "---\n",
        "Implemente el siguiente código de una red RNN, tome en cuenta que antes de ejecutar el modelo debe ejecutar el código hasta la obtención de la matriz de incrustaciones embedding_matrix\n",
        "\n",
        "Determine si hay overfiting y realice los ajustes en cuanto a la arquitectura y los hiperparámetros"
      ],
      "metadata": {
        "id": "1UnxfyPIFJSx"
      }
    },
    {
      "cell_type": "code",
      "source": [
        "from keras.layers import SimpleRNN\n",
        "from keras.models import Sequential\n",
        "\n",
        "from keras.preprocessing.text import Tokenizer\n",
        "from keras.preprocessing.sequence import pad_sequences\n",
        "\n",
        "# numero de palabras usadas como características\n",
        "max_features = 10000\n",
        "# cut off the words after seeing 500 words in each document(email)\n",
        "#maxlen = 500\n",
        "\n",
        "#Defina la arquitetura \n",
        "model = Sequential()\n",
        "model.add(Embedding(max_features, 32))\n",
        "model.add(SimpleRNN(32))\n",
        "model.add(Dense(1, activation='sigmoid'))\n",
        "\n",
        "#Compile el modelo \n",
        "model.compile(optimizer='rmsprop', loss='binary_crossentropy', metrics=['acc'])\n",
        "history = model.fit(X_train, y_train, epochs=10, batch_size=60, validation_split=0.2)\n",
        "\n",
        "#Para evaluar el modelo\n",
        "score = model.evaluate(X_test, y_test, verbose=1)\n",
        "print(\"Test Score:\", score[0])\n",
        "print(\"Test Accuracy:\", score[1])\n",
        "\n",
        "#presenta la gráfica de accuracy y loss\n",
        "import matplotlib.pyplot as plt\n",
        "%matplotlib inline\n",
        "acc = history.history['acc']\n",
        "val_acc = history.history['val_acc']\n",
        "loss = history.history['loss']\n",
        "val_loss = history.history['val_loss']\n",
        "epochs = range(len(acc))\n",
        "plt.plot(epochs, acc, '-', color='orange', label='training acc')\n",
        "plt.plot(epochs, val_acc, '-', color='blue', label='validation acc')\n",
        "plt.title('Training and validation accuracy')\n",
        "plt.legend()\n",
        "plt.show()\n",
        "\n",
        "plt.plot(epochs, loss, '-', color='orange', label='training acc')\n",
        "plt.plot(epochs, val_loss,  '-', color='blue', label='validation acc')\n",
        "plt.title('Training and validation loss')\n",
        "plt.legend()\n",
        "plt.show()"
      ],
      "metadata": {
        "colab": {
          "base_uri": "https://localhost:8080/",
          "height": 246
        },
        "id": "sYQmPtVHFQHQ",
        "outputId": "d23fb042-1898-403d-a398-bf5ec13bae7f"
      },
      "execution_count": 1,
      "outputs": [
        {
          "output_type": "error",
          "ename": "NameError",
          "evalue": "ignored",
          "traceback": [
            "\u001b[0;31m---------------------------------------------------------------------------\u001b[0m",
            "\u001b[0;31mNameError\u001b[0m                                 Traceback (most recent call last)",
            "\u001b[0;32m<ipython-input-1-1e762462d826>\u001b[0m in \u001b[0;36m<module>\u001b[0;34m()\u001b[0m\n\u001b[1;32m     12\u001b[0m \u001b[0;31m#Defina la arquitetura\u001b[0m\u001b[0;34m\u001b[0m\u001b[0;34m\u001b[0m\u001b[0;34m\u001b[0m\u001b[0m\n\u001b[1;32m     13\u001b[0m \u001b[0mmodel\u001b[0m \u001b[0;34m=\u001b[0m \u001b[0mSequential\u001b[0m\u001b[0;34m(\u001b[0m\u001b[0;34m)\u001b[0m\u001b[0;34m\u001b[0m\u001b[0;34m\u001b[0m\u001b[0m\n\u001b[0;32m---> 14\u001b[0;31m \u001b[0mmodel\u001b[0m\u001b[0;34m.\u001b[0m\u001b[0madd\u001b[0m\u001b[0;34m(\u001b[0m\u001b[0mEmbedding\u001b[0m\u001b[0;34m(\u001b[0m\u001b[0mmax_features\u001b[0m\u001b[0;34m,\u001b[0m \u001b[0;36m32\u001b[0m\u001b[0;34m)\u001b[0m\u001b[0;34m)\u001b[0m\u001b[0;34m\u001b[0m\u001b[0;34m\u001b[0m\u001b[0m\n\u001b[0m\u001b[1;32m     15\u001b[0m \u001b[0mmodel\u001b[0m\u001b[0;34m.\u001b[0m\u001b[0madd\u001b[0m\u001b[0;34m(\u001b[0m\u001b[0mSimpleRNN\u001b[0m\u001b[0;34m(\u001b[0m\u001b[0;36m32\u001b[0m\u001b[0;34m)\u001b[0m\u001b[0;34m)\u001b[0m\u001b[0;34m\u001b[0m\u001b[0;34m\u001b[0m\u001b[0m\n\u001b[1;32m     16\u001b[0m \u001b[0mmodel\u001b[0m\u001b[0;34m.\u001b[0m\u001b[0madd\u001b[0m\u001b[0;34m(\u001b[0m\u001b[0mDense\u001b[0m\u001b[0;34m(\u001b[0m\u001b[0;36m1\u001b[0m\u001b[0;34m,\u001b[0m \u001b[0mactivation\u001b[0m\u001b[0;34m=\u001b[0m\u001b[0;34m'sigmoid'\u001b[0m\u001b[0;34m)\u001b[0m\u001b[0;34m)\u001b[0m\u001b[0;34m\u001b[0m\u001b[0;34m\u001b[0m\u001b[0m\n",
            "\u001b[0;31mNameError\u001b[0m: name 'Embedding' is not defined"
          ]
        }
      ]
    }
  ]
}